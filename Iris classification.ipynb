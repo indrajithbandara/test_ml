{
 "cells": [
  {
   "cell_type": "markdown",
   "metadata": {},
   "source": [
    "# Iris classification\n",
    "https://github.com/jwheeldon/test_ml.git\n",
    "\n",
    "Machine learning test using the following techniques on iris dataset:\n",
    "* Principal components analysis (PCA)\n",
    "* Support vector machines (SVM)"
   ]
  },
  {
   "cell_type": "code",
   "execution_count": 3,
   "metadata": {
    "collapsed": true
   },
   "outputs": [],
   "source": [
    "# Import packages\n",
    "from sklearn import datasets, svm, metrics\n",
    "from sklearn.decomposition import PCA\n",
    "import numpy as np\n",
    "import pandas as pd\n",
    "import matplotlib as mpl"
   ]
  },
  {
   "cell_type": "markdown",
   "metadata": {},
   "source": [
    "## Import and sample dataset"
   ]
  },
  {
   "cell_type": "code",
   "execution_count": 4,
   "metadata": {},
   "outputs": [
    {
     "data": {
      "text/html": [
       "<div>\n",
       "<style>\n",
       "    .dataframe thead tr:only-child th {\n",
       "        text-align: right;\n",
       "    }\n",
       "\n",
       "    .dataframe thead th {\n",
       "        text-align: left;\n",
       "    }\n",
       "\n",
       "    .dataframe tbody tr th {\n",
       "        vertical-align: top;\n",
       "    }\n",
       "</style>\n",
       "<table border=\"1\" class=\"dataframe\">\n",
       "  <thead>\n",
       "    <tr style=\"text-align: right;\">\n",
       "      <th></th>\n",
       "      <th>0</th>\n",
       "      <th>1</th>\n",
       "    </tr>\n",
       "  </thead>\n",
       "  <tbody>\n",
       "    <tr>\n",
       "      <th>0</th>\n",
       "      <td>[5.1, 3.5, 1.4, 0.2]</td>\n",
       "      <td>0</td>\n",
       "    </tr>\n",
       "    <tr>\n",
       "      <th>1</th>\n",
       "      <td>[4.9, 3.0, 1.4, 0.2]</td>\n",
       "      <td>0</td>\n",
       "    </tr>\n",
       "    <tr>\n",
       "      <th>2</th>\n",
       "      <td>[4.7, 3.2, 1.3, 0.2]</td>\n",
       "      <td>0</td>\n",
       "    </tr>\n",
       "    <tr>\n",
       "      <th>3</th>\n",
       "      <td>[4.6, 3.1, 1.5, 0.2]</td>\n",
       "      <td>0</td>\n",
       "    </tr>\n",
       "    <tr>\n",
       "      <th>4</th>\n",
       "      <td>[5.0, 3.6, 1.4, 0.2]</td>\n",
       "      <td>0</td>\n",
       "    </tr>\n",
       "  </tbody>\n",
       "</table>\n",
       "</div>"
      ],
      "text/plain": [
       "                      0  1\n",
       "0  [5.1, 3.5, 1.4, 0.2]  0\n",
       "1  [4.9, 3.0, 1.4, 0.2]  0\n",
       "2  [4.7, 3.2, 1.3, 0.2]  0\n",
       "3  [4.6, 3.1, 1.5, 0.2]  0\n",
       "4  [5.0, 3.6, 1.4, 0.2]  0"
      ]
     },
     "execution_count": 4,
     "metadata": {},
     "output_type": "execute_result"
    }
   ],
   "source": [
    "iris = datasets.load_iris()\n",
    "n_samples = len(iris.data)\n",
    "data_and_classes = list(zip(iris.data, iris.target))\n",
    "data_pd = pd.DataFrame(data_and_classes)\n",
    "\n",
    "data_pd.head(5)"
   ]
  },
  {
   "cell_type": "markdown",
   "metadata": {},
   "source": [
    "## Shuffle dataset\n",
    "Since iris data is ordered by species, shuffling rows will help split training vs test data."
   ]
  },
  {
   "cell_type": "code",
   "execution_count": 5,
   "metadata": {},
   "outputs": [
    {
     "name": "stdout",
     "output_type": "stream",
     "text": [
      "       1    2    3    4  5\n",
      "87   6.3  2.3  4.4  1.3  1\n",
      "111  6.4  2.7  5.3  1.9  2\n",
      "10   5.4  3.7  1.5  0.2  0\n",
      "91   6.1  3.0  4.6  1.4  1\n",
      "49   5.0  3.3  1.4  0.2  0\n"
     ]
    }
   ],
   "source": [
    "np.random.seed(10)\n",
    "data_pd = data_pd.sample(frac=1)\n",
    "data_pd = pd.concat([data_pd[0].apply(pd.Series), data_pd[1]], axis=1)\n",
    "data_pd.columns = [1,2,3,4,5]\n",
    "\n",
    "print(data_pd.head(5))"
   ]
  },
  {
   "cell_type": "markdown",
   "metadata": {},
   "source": [
    "## Define training data and targets\n",
    "Split data into two groups: 50% model training - 50% test data. Best practice would typically involve a split of 70% training - 10% validation - 20% test data."
   ]
  },
  {
   "cell_type": "code",
   "execution_count": 4,
   "metadata": {
    "collapsed": true
   },
   "outputs": [],
   "source": [
    "training = data_pd[:][:n_samples//2]\n",
    "training_data = training[[1,2,3,4]].values\n",
    "training_target = training[5].values"
   ]
  },
  {
   "cell_type": "markdown",
   "metadata": {},
   "source": [
    "## Principal components analysis\n",
    "Exploratory data analysis and dimensionality reduction."
   ]
  },
  {
   "cell_type": "code",
   "execution_count": 5,
   "metadata": {},
   "outputs": [
    {
     "ename": "SyntaxError",
     "evalue": "invalid syntax (<ipython-input-5-08fdad050b4e>, line 1)",
     "output_type": "error",
     "traceback": [
      "\u001b[0;36m  File \u001b[0;32m\"<ipython-input-5-08fdad050b4e>\"\u001b[0;36m, line \u001b[0;32m1\u001b[0m\n\u001b[0;31m    pca =\u001b[0m\n\u001b[0m          ^\u001b[0m\n\u001b[0;31mSyntaxError\u001b[0m\u001b[0;31m:\u001b[0m invalid syntax\n"
     ]
    }
   ],
   "source": []
  },
  {
   "cell_type": "markdown",
   "metadata": {},
   "source": [
    "## Support vector machine"
   ]
  },
  {
   "cell_type": "code",
   "execution_count": null,
   "metadata": {
    "collapsed": true
   },
   "outputs": [],
   "source": [
    "# Linear support vector machine classifier\n",
    "clf = svm.LinearSVC()\n",
    "\n",
    "# Train model to fit training_data to training_target\n",
    "clf.fit(training_data, training_target)\n",
    "\n",
    "# Predict iris.targets and define expected vs predicted classifications\n",
    "expected = data_pd[5][n_samples//2:].values\n",
    "predicted = clf.predict(data_pd[[1,2,3,4]][n_samples//2:])\n",
    "\n",
    "# Generate confusion matrix and classification report via metrics\n",
    "metrics.confusion_matrix(expected,predicted)"
   ]
  },
  {
   "cell_type": "code",
   "execution_count": null,
   "metadata": {
    "collapsed": true
   },
   "outputs": [],
   "source": []
  }
 ],
 "metadata": {
  "kernelspec": {
   "display_name": "Python 3",
   "language": "python",
   "name": "python3"
  },
  "language_info": {
   "codemirror_mode": {
    "name": "ipython",
    "version": 3
   },
   "file_extension": ".py",
   "mimetype": "text/x-python",
   "name": "python",
   "nbconvert_exporter": "python",
   "pygments_lexer": "ipython3",
   "version": "3.6.3"
  }
 },
 "nbformat": 4,
 "nbformat_minor": 2
}

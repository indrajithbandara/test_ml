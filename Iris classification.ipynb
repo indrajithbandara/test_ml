{
 "cells": [
  {
   "cell_type": "markdown",
   "metadata": {},
   "source": [
    "# Iris classification\n",
    "https://github.com/jwheeldon/test_ml.git\n",
    "\n",
    "Machine learning test using the following techniques on iris dataset:\n",
    "* Principal components analysis (PCA)\n",
    "* Support vector machines (SVM)\n"
   ]
  },
  {
   "cell_type": "code",
   "execution_count": 12,
   "metadata": {
    "collapsed": true
   },
   "outputs": [],
   "source": [
    "# Import packages\n",
    "from sklearn import datasets, svm, metrics\n",
    "import numpy as np\n",
    "import pandas as pd\n",
    "import matplotlib as mpl"
   ]
  },
  {
   "cell_type": "code",
   "execution_count": 13,
   "metadata": {
    "collapsed": true
   },
   "outputs": [],
   "source": [
    "# Import data and define variables\n",
    "iris = datasets.load_iris()\n",
    "n_samples = len(iris.data)\n",
    "data_and_classes = list(zip(iris.data, iris.target))\n",
    "data_pd = pd.DataFrame(data_and_classes)"
   ]
  },
  {
   "cell_type": "code",
   "execution_count": 14,
   "metadata": {
    "collapsed": true
   },
   "outputs": [],
   "source": [
    "# Shuffle data and reshape\n",
    "np.random.seed(10)\n",
    "data_pd = data_pd.sample(frac=1)\n",
    "data_pd = pd.concat([data_pd[0].apply(pd.Series), data_pd[1]], axis=1)\n",
    "data_pd.columns = [1,2,3,4,5]\n",
    "\n",
    "# Define training data and targets\n",
    "training = data_pd[:][:n_samples//2]\n",
    "training_data = training[[1,2,3,4]].values\n",
    "training_target = training[5].values"
   ]
  },
  {
   "cell_type": "markdown",
   "metadata": {},
   "source": [
    "Support vector machine to predict species class based on 4 iris features"
   ]
  },
  {
   "cell_type": "code",
   "execution_count": 15,
   "metadata": {},
   "outputs": [
    {
     "data": {
      "text/plain": [
       "array([[27,  0,  0],\n",
       "       [ 0, 23,  0],\n",
       "       [ 0,  3, 22]])"
      ]
     },
     "execution_count": 15,
     "metadata": {},
     "output_type": "execute_result"
    }
   ],
   "source": [
    "# Linear support vector machine classifier\n",
    "clf = svm.LinearSVC()\n",
    "\n",
    "# Train model to fit training_data to training_target\n",
    "clf.fit(training_data, training_target)\n",
    "\n",
    "# Predict iris.targets and define expected vs predicted classifications\n",
    "expected = data_pd[5][n_samples//2:].values\n",
    "predicted = clf.predict(data_pd[[1,2,3,4]][n_samples//2:])\n",
    "\n",
    "# Generate confusion matrix and classification report via metrics\n",
    "metrics.confusion_matrix(expected,predicted)"
   ]
  },
  {
   "cell_type": "code",
   "execution_count": null,
   "metadata": {
    "collapsed": true
   },
   "outputs": [],
   "source": []
  }
 ],
 "metadata": {
  "kernelspec": {
   "display_name": "Python 3",
   "language": "python",
   "name": "python3"
  },
  "language_info": {
   "codemirror_mode": {
    "name": "ipython",
    "version": 3
   },
   "file_extension": ".py",
   "mimetype": "text/x-python",
   "name": "python",
   "nbconvert_exporter": "python",
   "pygments_lexer": "ipython3",
   "version": "3.6.3"
  }
 },
 "nbformat": 4,
 "nbformat_minor": 2
}
